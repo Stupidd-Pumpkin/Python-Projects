{
 "cells": [
  {
   "cell_type": "code",
   "execution_count": 1,
   "metadata": {},
   "outputs": [
    {
     "ename": "NameError",
     "evalue": "name 'os' is not defined",
     "output_type": "error",
     "traceback": [
      "\u001b[1;31m---------------------------------------------------------------------------\u001b[0m",
      "\u001b[1;31mNameError\u001b[0m                                 Traceback (most recent call last)",
      "\u001b[1;32m<ipython-input-1-623cc26dc69a>\u001b[0m in \u001b[0;36m<module>\u001b[1;34m\u001b[0m\n\u001b[0;32m      3\u001b[0m \u001b[0mpath\u001b[0m \u001b[1;33m=\u001b[0m \u001b[1;34m'Test/'\u001b[0m\u001b[1;33m\u001b[0m\u001b[1;33m\u001b[0m\u001b[0m\n\u001b[0;32m      4\u001b[0m \u001b[0mtest_files\u001b[0m \u001b[1;33m=\u001b[0m \u001b[1;33m[\u001b[0m\u001b[1;33m]\u001b[0m\u001b[1;33m\u001b[0m\u001b[1;33m\u001b[0m\u001b[0m\n\u001b[1;32m----> 5\u001b[1;33m \u001b[1;32mfor\u001b[0m \u001b[0mr\u001b[0m\u001b[1;33m,\u001b[0m \u001b[0md\u001b[0m\u001b[1;33m,\u001b[0m \u001b[0mf\u001b[0m \u001b[1;32min\u001b[0m \u001b[0mos\u001b[0m\u001b[1;33m.\u001b[0m\u001b[0mwalk\u001b[0m\u001b[1;33m(\u001b[0m\u001b[0mpath\u001b[0m\u001b[1;33m)\u001b[0m\u001b[1;33m:\u001b[0m\u001b[1;33m\u001b[0m\u001b[1;33m\u001b[0m\u001b[0m\n\u001b[0m\u001b[0;32m      6\u001b[0m     \u001b[1;32mfor\u001b[0m \u001b[0mfile\u001b[0m \u001b[1;32min\u001b[0m \u001b[0mf\u001b[0m\u001b[1;33m:\u001b[0m\u001b[1;33m\u001b[0m\u001b[1;33m\u001b[0m\u001b[0m\n\u001b[0;32m      7\u001b[0m         \u001b[1;32mif\u001b[0m \u001b[1;34m'.pdb'\u001b[0m \u001b[1;32min\u001b[0m \u001b[0mfile\u001b[0m\u001b[1;33m:\u001b[0m\u001b[1;33m\u001b[0m\u001b[1;33m\u001b[0m\u001b[0m\n",
      "\u001b[1;31mNameError\u001b[0m: name 'os' is not defined"
     ]
    }
   ],
   "source": [
    "n_files = 0\n",
    "\n",
    "path = 'Test/'\n",
    "test_files = []\n",
    "for r, d, f in os.walk(path):\n",
    "    for file in f:\n",
    "        if '.pdb' in file:\n",
    "            test_files.append(os.path.join(r, file))\n",
    "\n",
    "for f in test_files :\n",
    "    pdb_code = f[5:len(f)-4]\n",
    "    with open(\"Test_csv/%s.csv\" % pdb_code) as csv_file:\n",
    "        csv_reader = csv.reader(csv_file, delimiter = '\\t')\n",
    "        test_data = []\n",
    "        for row in csv_reader:\n",
    "            test_data.append(row)\n",
    "            \n",
    "    test_labels = np.chararray(len(test_data))\n",
    "    f1 = 'Test_results/'+pdb_code +'.txt'\n",
    "    file=open(f1,\"w+\")\n",
    "    q='XX'\n",
    "\n",
    "    for i in range(2, len(test_data)-2):\n",
    "        test_phi = phi[initials.index(test_data[i-2][0])][initials.index(test_data[i-1][0])][initials.index(test_data[i][0])][initials.index(test_data[i+1][0])][initials.index(test_data[i+2][0])]\n",
    "        test_psi = psi[initials.index(test_data[i-2][0])][initials.index(test_data[i-1][0])][initials.index(test_data[i][0])][initials.index(test_data[i+1][0])][initials.index(test_data[i+2][0])]\n",
    "        test_labels[i] = labels[initials.index(test_data[i-2][0])][initials.index(test_data[i-1][0])][initials.index(test_data[i][0])][initials.index(test_data[i+1][0])][initials.index(test_data[i+2][0])]\n",
    "        #print(count[initials.index(test_data[i-2][0])][initials.index(test_data[i-1][0])][initials.index(test_data[i][0])][initials.index(test_data[i+1][0])][initials.index(test_data[i+2][0])], end = ' ')\n",
    "        b = str(test_labels[i])\n",
    "        if len(b)<3 : b='XXX'\n",
    "        #print(test_labels[i])\n",
    "        q=q+b[2]\n",
    "    q=q+'XX'\n",
    "    file.write(\"%s\" % (q))\n",
    "    file.close()\n",
    "    #np.save(\"Test_results/%s\" % pdb_code, test_labels)\n",
    "\n",
    "\n",
    "    #print(n_files)\n",
    "    n_files = n_files + 1\n",
    "\n",
    "print(\"Testing done\")\n",
    "\n",
    "\n",
    "\n",
    "path=os.listdir('Test_results/')\n",
    "#print (path)\n",
    "alphabet = [\"H\", \"S\", \"E\", \"X\"]\n",
    "conf = np.zeros((4,4))\n",
    "for f1 in path :\n",
    "    if '.txt' in f1:\n",
    "        file1=open('Test_results/'+f1,'r')\n",
    "        file2=open('DSSP_Struct/'+f1,'r')\n",
    "        q1=file1.readline()\n",
    "        q2=file2.readline()\n",
    "        #print(len(q1)-len(q2), f1)\n",
    "        if len(q1)- len(q2)==0 :\n",
    "            for i in range(len(q1)):\n",
    "                conf[alphabet.index(q1[i])][alphabet.index(q2[i])] = conf[alphabet.index(q1[i])][alphabet.index(q2[i])] + 1\n",
    "    \n",
    "print (conf)\n",
    "total = 0\n",
    "diag = 0\n",
    "for i in range(4):\n",
    "    for j in range(4):\n",
    "        total = total + conf[i][j]\n",
    "    diag = diag + conf[i][i]\n",
    "\n",
    "acc = diag/total\n",
    "print(acc) \n"
   ]
  },
  {
   "cell_type": "code",
   "execution_count": null,
   "metadata": {},
   "outputs": [],
   "source": []
  }
 ],
 "metadata": {
  "kernelspec": {
   "display_name": "Python 3",
   "language": "python",
   "name": "python3"
  },
  "language_info": {
   "codemirror_mode": {
    "name": "ipython",
    "version": 3
   },
   "file_extension": ".py",
   "mimetype": "text/x-python",
   "name": "python",
   "nbconvert_exporter": "python",
   "pygments_lexer": "ipython3",
   "version": "3.7.1"
  }
 },
 "nbformat": 4,
 "nbformat_minor": 2
}
