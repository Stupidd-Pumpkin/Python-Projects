{
 "cells": [
  {
   "cell_type": "code",
   "execution_count": 2,
   "metadata": {},
   "outputs": [
    {
     "ename": "FileNotFoundError",
     "evalue": "[Errno 2] No such file or directory: 'Test_csv/1bvd.csv'",
     "output_type": "error",
     "traceback": [
      "\u001b[1;31m---------------------------------------------------------------------------\u001b[0m",
      "\u001b[1;31mFileNotFoundError\u001b[0m                         Traceback (most recent call last)",
      "\u001b[1;32m<ipython-input-2-ddb2697fb7d9>\u001b[0m in \u001b[0;36m<module>\u001b[1;34m\u001b[0m\n\u001b[0;32m     19\u001b[0m \u001b[1;33m\u001b[0m\u001b[0m\n\u001b[0;32m     20\u001b[0m \u001b[0mpdb_code\u001b[0m \u001b[1;33m=\u001b[0m \u001b[1;34m\"1bvd\"\u001b[0m\u001b[1;33m\u001b[0m\u001b[1;33m\u001b[0m\u001b[0m\n\u001b[1;32m---> 21\u001b[1;33m \u001b[1;32mwith\u001b[0m \u001b[0mopen\u001b[0m\u001b[1;33m(\u001b[0m\u001b[1;34m\"Test_csv/%s.csv\"\u001b[0m \u001b[1;33m%\u001b[0m \u001b[0mpdb_code\u001b[0m\u001b[1;33m)\u001b[0m \u001b[1;32mas\u001b[0m \u001b[0mcsv_file\u001b[0m\u001b[1;33m:\u001b[0m\u001b[1;33m\u001b[0m\u001b[1;33m\u001b[0m\u001b[0m\n\u001b[0m\u001b[0;32m     22\u001b[0m     \u001b[0mcsv_reader\u001b[0m \u001b[1;33m=\u001b[0m \u001b[0mcsv\u001b[0m\u001b[1;33m.\u001b[0m\u001b[0mreader\u001b[0m\u001b[1;33m(\u001b[0m\u001b[0mcsv_file\u001b[0m\u001b[1;33m,\u001b[0m \u001b[0mdelimiter\u001b[0m \u001b[1;33m=\u001b[0m \u001b[1;34m'\\t'\u001b[0m\u001b[1;33m)\u001b[0m\u001b[1;33m\u001b[0m\u001b[1;33m\u001b[0m\u001b[0m\n\u001b[0;32m     23\u001b[0m     \u001b[0mtest_data\u001b[0m \u001b[1;33m=\u001b[0m \u001b[1;33m[\u001b[0m\u001b[1;33m]\u001b[0m\u001b[1;33m\u001b[0m\u001b[1;33m\u001b[0m\u001b[0m\n",
      "\u001b[1;31mFileNotFoundError\u001b[0m: [Errno 2] No such file or directory: 'Test_csv/1bvd.csv'"
     ]
    }
   ],
   "source": [
    "import csv\n",
    "import os\n",
    "import numpy as np\n",
    "\n",
    "proteins  = [\"GLY\",\"ALA\",\"LEU\",\"MET\",\"PHE\",\"TRP\",\"LYS\",\"GLN\",\"GLU\",\"SER\",\"PRO\",\"VAL\",\"ILE\",\"CYS\",\"TYR\",\"HIS\",\"ARG\",\"ASN\",\"ASP\",\"THR\"]\n",
    "initials = [\"G\",\"A\",\"L\",\"M\",\"F\",\"W\",\"K\",\"Q\",\"E\",\"S\",\"P\",\"V\",\"I\",\"C\",\"Y\",\"H\",\"R\",\"N\",\"D\",\"T\"]\n",
    "\n",
    "n_files = 0\n",
    "phi = np.load(\"Phi.npy\",)\n",
    "psi = np.load(\"Psi.npy\")\n",
    "count = np.load(\"Count.npy\")\n",
    "data = np.load(\"Train_data.npy\")\n",
    "labels = np.load(\"Train_labels.npy\",encoding = 'bytes')\n",
    "\n",
    "types = [\"H\",\"S\",\"E\"]\n",
    "path = 'Test/'\n",
    "\n",
    "count0 = 0\n",
    "\n",
    "pdb_code = input ('Enter the Protein name: ')\n",
    "with open(\"Test_csv/%s.csv\" % pdb_code) as csv_file:\n",
    "    csv_reader = csv.reader(csv_file, delimiter = '\\t')\n",
    "    test_data = []\n",
    "    for row in csv_reader:\n",
    "        test_data.append(row)\n",
    "\n",
    "\n",
    "f1 = 'Test_results/'+pdb_code +'.txt'\n",
    "file=open(f1,\"w+\")\n",
    "q='XX'\n",
    "\n",
    "for i in range(2, len(test_data)-2):\n",
    "    test_phi = phi[initials.index(test_data[i-2][0])][initials.index(test_data[i-1][0])][initials.index(test_data[i][0])][initials.index(test_data[i+1][0])][initials.index(test_data[i+2][0])]\n",
    "    test_psi = psi[initials.index(test_data[i-2][0])][initials.index(test_data[i-1][0])][initials.index(test_data[i][0])][initials.index(test_data[i+1][0])][initials.index(test_data[i+2][0])]\n",
    "    ch = str(labels[initials.index(test_data[i-2][0])][initials.index(test_data[i-1][0])][initials.index(test_data[i][0])][initials.index(test_data[i+1][0])][initials.index(test_data[i+2][0])])\n",
    "    #print(ch, end=' ')\n",
    "    if (ch!= 'b\\'\\''):\n",
    "        test_label = ch[2]\n",
    "    countType = np.zeros((3))\n",
    "    countX = 0\n",
    "    if (count[initials.index(test_data[i-2][0])][initials.index(test_data[i-1][0])][initials.index(test_data[i][0])][initials.index(test_data[i+1][0])][initials.index(test_data[i+2][0])] == 0):\n",
    "        for j in range(20):\n",
    "            for k in range(20):\n",
    "                ch = str(labels[j][initials.index(test_data[i-1][0])][initials.index(test_data[i][0])][initials.index(test_data[i+1][0])][k])\n",
    "                if (ch != 'b\\'\\''):\n",
    "                    countType[types.index(ch[2])] = countType[types.index(ch[2])] + 1\n",
    "\n",
    "        if (np.max(countType) != 0):\n",
    "            test_label = types[np.argmax(countType)]\n",
    "        else :\n",
    "            for j in range(20):\n",
    "                for k in range(20):\n",
    "                    for l in range(20):\n",
    "                        for m in range(20):\n",
    "                            ch = str(labels[j][k][initials.index(test_data[i][0])][l][m])\n",
    "                            if (ch != 'b\\'\\''):\n",
    "                                countType[types.index(ch[2])] = countType[types.index(ch[2])] + 1\n",
    "\n",
    "        if (np.max(countType)!= 0):\n",
    "            test_label = types[np.argmax(countType)]\n",
    "        else :\n",
    "            test_label = \"X\"\n",
    "\n",
    "    q = q+test_label\n",
    "\n",
    "    #print(test_label, end = '')\n",
    "q=q+'XX'\n",
    "file.write(\"%s\" % (q))\n",
    "file.close()    \n",
    "#print(n_files)\n",
    "n_files = n_files + 1\n",
    "\n",
    "print(\"Testing done\")\n",
    "#print(count0)\n",
    "\n"
   ]
  },
  {
   "cell_type": "code",
   "execution_count": null,
   "metadata": {},
   "outputs": [],
   "source": []
  }
 ],
 "metadata": {
  "kernelspec": {
   "display_name": "Python 3",
   "language": "python",
   "name": "python3"
  },
  "language_info": {
   "codemirror_mode": {
    "name": "ipython",
    "version": 3
   },
   "file_extension": ".py",
   "mimetype": "text/x-python",
   "name": "python",
   "nbconvert_exporter": "python",
   "pygments_lexer": "ipython3",
   "version": "3.7.1"
  }
 },
 "nbformat": 4,
 "nbformat_minor": 2
}
