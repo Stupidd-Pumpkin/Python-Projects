{
 "cells": [
  {
   "cell_type": "code",
   "execution_count": 2,
   "metadata": {},
   "outputs": [],
   "source": [
    "import os\n",
    "path=os.listdir('DSSP/')\n",
    "#print (path)\n",
    "for f1 in path :\n",
    "  if '_DSSP' in f1:\n",
    "    in_file=open('DSSP/'+f1,'r')\n",
    "    f2=\"DSSP_Struct/\"+f1[:-5]+'.txt'\n",
    "    out_file= open(f2,\"w+\")\n",
    "    q=in_file.readlines()\n",
    "    q1=''\n",
    "    for line in range (28,len(q)) : \n",
    "      if q[line][13]=='!': continue \n",
    "      if q[line][16]=='B' : k='E'\n",
    "      elif q[line][16]=='G' : k='H'\n",
    "      elif q[line][16]=='I' : k='H'\n",
    "      elif q[line][16]=='T' : k='S'\n",
    "      elif q[line][16]==' ' : k='X'\n",
    "      else : k=q[line][16]\n",
    "      q1=q1+k\n",
    "\n",
    "    out_file.write(\"%s\" % (q1))\n",
    "    \n",
    "    in_file.close()    \n",
    "    out_file.close() "
   ]
  },
  {
   "cell_type": "code",
   "execution_count": null,
   "metadata": {},
   "outputs": [],
   "source": []
  }
 ],
 "metadata": {
  "kernelspec": {
   "display_name": "Python 3",
   "language": "python",
   "name": "python3"
  },
  "language_info": {
   "codemirror_mode": {
    "name": "ipython",
    "version": 3
   },
   "file_extension": ".py",
   "mimetype": "text/x-python",
   "name": "python",
   "nbconvert_exporter": "python",
   "pygments_lexer": "ipython3",
   "version": "3.7.1"
  }
 },
 "nbformat": 4,
 "nbformat_minor": 2
}
