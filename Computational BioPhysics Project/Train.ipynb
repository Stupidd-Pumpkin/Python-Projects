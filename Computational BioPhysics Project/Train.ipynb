{
 "cells": [
  {
   "cell_type": "code",
   "execution_count": 10,
   "metadata": {},
   "outputs": [
    {
     "name": "stdout",
     "output_type": "stream",
     "text": [
      "Training done\n"
     ]
    }
   ],
   "source": [
    "import csv\n",
    "import os\n",
    "import numpy as np\n",
    "\n",
    "proteins  = [\"GLY\",\"ALA\",\"LEU\",\"MET\",\"PHE\",\"TRP\",\"LYS\",\"GLN\",\"GLU\",\"SER\",\"PRO\",\"VAL\",\"ILE\",\"CYS\",\"TYR\",\"HIS\",\"ARG\",\"ASN\",\"ASP\",\"THR\"]\n",
    "initials = [\"G\",\"A\",\"L\",\"M\",\"F\",\"W\",\"K\",\"Q\",\"E\",\"S\",\"P\",\"V\",\"I\",\"C\",\"Y\",\"H\",\"R\",\"N\",\"D\",\"T\"]\n",
    "path = 'Train/'\n",
    "\n",
    "#file = '1HMP_biopython.csv'\n",
    "phi = np.zeros((20,20,20,20,20))\n",
    "psi = np.zeros((20,20,20,20,20))\n",
    "count = np.zeros((20,20,20,20,20))\n",
    "labels = np.chararray((20,20,20,20,20))\n",
    "\n",
    "files = []\n",
    "for r, d, f in os.walk(path):\n",
    "    for file in f:\n",
    "        if '.pdb' in file:\n",
    "            files.append(os.path.join(r, file))\n",
    "\n",
    "n_files = 0\n",
    "for f in files :\n",
    "    pdb_code = f[6:len(f)-4]\n",
    "    with open(\"Train_csv/%s.csv\" % pdb_code) as csv_file:\n",
    "        csv_reader = csv.reader(csv_file, delimiter = '\\t')\n",
    "        data = []\n",
    "        for row in csv_reader:\n",
    "            data.append(row)\n",
    "\n",
    "    for i in range(2, len(data)-2):\n",
    "        phi[initials.index(data[i-2][0])][initials.index(data[i-1][0])][initials.index(data[i][0])][initials.index(data[i+1][0])][initials.index(data[i+2][0])] = phi[initials.index(data[i-2][0])][initials.index(data[i-1][0])][initials.index(data[i][0])][initials.index(data[i+1][0])][initials.index(data[i+2][0])] + float(data[i][1])\n",
    "        psi[initials.index(data[i-2][0])][initials.index(data[i-1][0])][initials.index(data[i][0])][initials.index(data[i+1][0])][initials.index(data[i+2][0])] = psi[initials.index(data[i-2][0])][initials.index(data[i-1][0])][initials.index(data[i][0])][initials.index(data[i+1][0])][initials.index(data[i+2][0])] + float(data[i][2])\n",
    "        count[initials.index(data[i-2][0])][initials.index(data[i-1][0])][initials.index(data[i][0])][initials.index(data[i+1][0])][initials.index(data[i+2][0])] = count[initials.index(data[i-2][0])][initials.index(data[i-1][0])][initials.index(data[i][0])][initials.index(data[i+1][0])][initials.index(data[i+2][0])] + 1\n",
    "        #labels[initials.index(data[i-2][0])][initials.index(data[i-1][0])][initials.index(data[i][0])][initials.index(data[i+1][0])][initials.index(data[i+2][0])] = label\n",
    "    \n",
    "    #print(\"%i\" %n_files)\n",
    "    n_files = n_files+1\n",
    "\n",
    "for a1 in range(20):\n",
    "    for a2 in range(20):\n",
    "        for a3 in range(20):\n",
    "            for a4 in range(20):\n",
    "                for a5 in range(20):\n",
    "                    if (count[a1][a2][a3][a4][a5] != 0):\n",
    "                        phi[a1][a2][a3][a4][a5] = phi[a1][a2][a3][a4][a5]/count[a1][a2][a3][a4][a5]\n",
    "                        psi[a1][a2][a3][a4][a5] = psi[a1][a2][a3][a4][a5]/count[a1][a2][a3][a4][a5]\n",
    "                        #print(phi[a1][a2][a3][a4][a5], phi[a1][a2][a3][a4][a5], end = ' ')\n",
    "                        if (phi[a1][a2][a3][a4][a5]>-75 and phi[a1][a2][a3][a4][a5]<-45 and psi[a1][a2][a3][a4][a5]>-60 and psi[a1][a2][a3][a4][a5]<-30):\n",
    "                            labels[a1][a2][a3][a4][a5] = 'H'\n",
    "                        elif (phi[a1][a2][a3][a4][a5]>-135 and phi[a1][a2][a3][a4][a5]<-105 and psi[a1][a2][a3][a4][a5]>120 and psi[a1][a2][a3][a4][a5]<150):\n",
    "                            labels[a1][a2][a3][a4][a5] = 'E' \n",
    "                        else :\n",
    "                            labels[a1][a2][a3][a4][a5] = 'S'\n",
    "                        train_label =str(labels[a1][a2][a3][a4][a5])\n",
    "                        labels[a1][a2][a3][a4][a5] = train_label[2]\n",
    "                        #print(labels[a1][a2][a3][a4][a5], end = ' ')                          \n",
    "#data = np.asarray(data)\n",
    "np.save(\"Phi\",phi)\n",
    "np.save(\"Psi\",psi)\n",
    "np.save(\"Count\",count)\n",
    "np.save(\"Train_data\",data)\n",
    "np.save(\"Train_labels\",labels)\n",
    "\n",
    "print(\"Training done\")"
   ]
  }
 ],
 "metadata": {
  "kernelspec": {
   "display_name": "Python 3",
   "language": "python",
   "name": "python3"
  },
  "language_info": {
   "codemirror_mode": {
    "name": "ipython",
    "version": 3
   },
   "file_extension": ".py",
   "mimetype": "text/x-python",
   "name": "python",
   "nbconvert_exporter": "python",
   "pygments_lexer": "ipython3",
   "version": "3.7.1"
  }
 },
 "nbformat": 4,
 "nbformat_minor": 2
}
